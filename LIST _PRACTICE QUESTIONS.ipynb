{
 "cells": [
  {
   "cell_type": "markdown",
   "id": "unexpected-symposium",
   "metadata": {},
   "source": [
    "\n",
    "\n",
    "# LIST\n",
    "## PRACTICE QUESTIONS\n",
    "\n"
   ]
  },
  {
   "cell_type": "markdown",
   "id": "understood-manchester",
   "metadata": {},
   "source": [
    "# i.\tsum all the elements of a list."
   ]
  },
  {
   "cell_type": "code",
   "execution_count": 2,
   "id": "frequent-moment",
   "metadata": {},
   "outputs": [],
   "source": [
    "def sum_list_elements(list1):\n",
    "    sum=0\n",
    "    for i in range(len(list1)):\n",
    "        sum+=list1[i]\n",
    "    print(\"the sum is:\", sum)"
   ]
  },
  {
   "cell_type": "code",
   "execution_count": 3,
   "id": "honest-identification",
   "metadata": {},
   "outputs": [
    {
     "name": "stdout",
     "output_type": "stream",
     "text": [
      "the sum is: 15\n"
     ]
    }
   ],
   "source": [
    "sum_list_elements([1,2,3,4,5])"
   ]
  },
  {
   "cell_type": "markdown",
   "id": "simple-version",
   "metadata": {},
   "source": [
    "# ii.\tfind the largest element in the given list."
   ]
  },
  {
   "cell_type": "code",
   "execution_count": 6,
   "id": "underlying-start",
   "metadata": {},
   "outputs": [],
   "source": [
    "def largest_element(list1):\n",
    "    for i in range(len(list1)):\n",
    "         if list1[i] > list1[0]:\n",
    "            list1[0]=list1[i]\n",
    "            \n",
    "    print(\"The largest no. is: \", list1[0])\n",
    "        \n",
    "        "
   ]
  },
  {
   "cell_type": "code",
   "execution_count": 7,
   "id": "posted-minnesota",
   "metadata": {},
   "outputs": [
    {
     "name": "stdout",
     "output_type": "stream",
     "text": [
      "The largest no. is:  8899\n"
     ]
    }
   ],
   "source": [
    "largest_element([55,22,102,8899])"
   ]
  },
  {
   "cell_type": "markdown",
   "id": "swedish-special",
   "metadata": {},
   "source": [
    "# iii.\tto find the second largest number in a list."
   ]
  },
  {
   "cell_type": "code",
   "execution_count": 30,
   "id": "instructional-style",
   "metadata": {},
   "outputs": [],
   "source": [
    "def second_largest_element(list1):\n",
    "    for i in range(len(list1)):   # logic to find largest no.\n",
    "        if list1[i] > list1[0]:\n",
    "            list1[0]=list1[i]\n",
    "    for j in range (list1[1],len(list1)):  # same logic to find 2nd largestby finding largest among the remaining elements \n",
    "        if list1[j] > list1[1]:\n",
    "            list1[1]=list1[i]\n",
    "                    \n",
    "    print(\"The 2nd largest no. is: \", list1[1])"
   ]
  },
  {
   "cell_type": "code",
   "execution_count": 31,
   "id": "proud-villa",
   "metadata": {},
   "outputs": [
    {
     "name": "stdout",
     "output_type": "stream",
     "text": [
      "The 2nd largest no. is:  5\n"
     ]
    }
   ],
   "source": [
    "second_largest_element([6,5,4,3])"
   ]
  },
  {
   "cell_type": "code",
   "execution_count": 32,
   "id": "hourly-amplifier",
   "metadata": {},
   "outputs": [
    {
     "name": "stdout",
     "output_type": "stream",
     "text": [
      "The 2nd largest no. is:  45\n"
     ]
    }
   ],
   "source": [
    "second_largest_element([64,45,4,3,11,34,66,87,55])"
   ]
  },
  {
   "cell_type": "markdown",
   "id": "invalid-politics",
   "metadata": {},
   "source": [
    "# iv.\tfind the smallest element in the given list."
   ]
  },
  {
   "cell_type": "code",
   "execution_count": 45,
   "id": "congressional-membership",
   "metadata": {},
   "outputs": [],
   "source": [
    "def smallest_element(list2):\n",
    "    for i in range(len(list2)):\n",
    "        if list2[i] < list2[0]:\n",
    "            list2[0] = list2[i]\n",
    "            \n",
    "    print(\"The  smallest no. is: \", list2[0])   "
   ]
  },
  {
   "cell_type": "code",
   "execution_count": 47,
   "id": "indirect-dryer",
   "metadata": {},
   "outputs": [
    {
     "name": "stdout",
     "output_type": "stream",
     "text": [
      "The  smallest no. is:  1\n"
     ]
    }
   ],
   "source": [
    "smallest_element([1,55,22,33])"
   ]
  },
  {
   "cell_type": "markdown",
   "id": "cellular-message",
   "metadata": {},
   "source": [
    "# v.\tto interchange first and last elements in a list."
   ]
  },
  {
   "cell_type": "code",
   "execution_count": 49,
   "id": "nonprofit-composition",
   "metadata": {},
   "outputs": [],
   "source": [
    "def interchange_1st_last(list1):\n",
    "    temp = list1[-1]\n",
    "    list1[-1] = list1[0]\n",
    "    list1[0]= temp\n",
    "    return list1"
   ]
  },
  {
   "cell_type": "code",
   "execution_count": 51,
   "id": "handy-latvia",
   "metadata": {},
   "outputs": [
    {
     "data": {
      "text/plain": [
       "[6, 2, 3, 4, 5, 1]"
      ]
     },
     "execution_count": 51,
     "metadata": {},
     "output_type": "execute_result"
    }
   ],
   "source": [
    "interchange_1st_last([1,2,3,4,5,6])"
   ]
  },
  {
   "cell_type": "markdown",
   "id": "coordinated-andrew",
   "metadata": {},
   "source": [
    "# vi.\tPython program to swap 3rd and 5th elements of a list else return None if the list has less than 3 elements."
   ]
  },
  {
   "cell_type": "code",
   "execution_count": 56,
   "id": "distinguished-glasgow",
   "metadata": {},
   "outputs": [],
   "source": [
    "def swap_3rd_5th(list1):\n",
    "    if len(list1) < 5: \n",
    "        print(\"none\")\n",
    "    else:\n",
    "        list1[2],list1[4] = list1[4],list1[2]\n",
    "    return list1"
   ]
  },
  {
   "cell_type": "code",
   "execution_count": 57,
   "id": "adolescent-distance",
   "metadata": {},
   "outputs": [
    {
     "name": "stdout",
     "output_type": "stream",
     "text": [
      "none\n"
     ]
    },
    {
     "data": {
      "text/plain": [
       "[1, 2, 3]"
      ]
     },
     "execution_count": 57,
     "metadata": {},
     "output_type": "execute_result"
    }
   ],
   "source": [
    "swap_3rd_5th([1,2,3])"
   ]
  },
  {
   "cell_type": "code",
   "execution_count": 58,
   "id": "spread-palmer",
   "metadata": {},
   "outputs": [
    {
     "data": {
      "text/plain": [
       "[1, 2, 5, 4, 3]"
      ]
     },
     "execution_count": 58,
     "metadata": {},
     "output_type": "execute_result"
    }
   ],
   "source": [
    "swap_3rd_5th([1,2,3,4,5])"
   ]
  },
  {
   "cell_type": "markdown",
   "id": "aerial-escape",
   "metadata": {},
   "source": [
    "# vii.\tto find the length of the given list without using the len() function."
   ]
  },
  {
   "cell_type": "code",
   "execution_count": 70,
   "id": "documented-quantity",
   "metadata": {},
   "outputs": [],
   "source": [
    "def length_list(list1):\n",
    "    c=1\n",
    "    for i in range(list1[0],list1[-1]):\n",
    "        c=c+1\n",
    "    print(\"the length is: \", c)  "
   ]
  },
  {
   "cell_type": "code",
   "execution_count": 74,
   "id": "forbidden-compensation",
   "metadata": {},
   "outputs": [
    {
     "name": "stdout",
     "output_type": "stream",
     "text": [
      "the length is:  4\n"
     ]
    }
   ],
   "source": [
    "length_list([1,2,3,4])"
   ]
  },
  {
   "cell_type": "markdown",
   "id": "direct-willow",
   "metadata": {},
   "source": [
    "# viii.\tto check if an element exists in the given list."
   ]
  },
  {
   "cell_type": "code",
   "execution_count": 118,
   "id": "proud-arrangement",
   "metadata": {},
   "outputs": [],
   "source": [
    "def check_element(list1, element):\n",
    "    for i in range(len(list1)):\n",
    "        if (list1[i]==element):\n",
    "            print(\"element found at\", i,\"th position\")\n",
    "            \n",
    "            \n",
    "        else:\n",
    "            print(\"not found\")\n",
    "            continue"
   ]
  },
  {
   "cell_type": "code",
   "execution_count": 119,
   "id": "retained-flashing",
   "metadata": {},
   "outputs": [
    {
     "name": "stdout",
     "output_type": "stream",
     "text": [
      "not found\n",
      "not found\n",
      "element found at 2 th position\n",
      "not found\n"
     ]
    }
   ],
   "source": [
    "check_element([1,3,4,5], 4)"
   ]
  },
  {
   "cell_type": "markdown",
   "id": "valued-desperate",
   "metadata": {},
   "source": [
    "# ix.\tprint the elements of the list in the reverse order."
   ]
  },
  {
   "cell_type": "code",
   "execution_count": 122,
   "id": "respected-paper",
   "metadata": {},
   "outputs": [],
   "source": [
    "def reverse_list(list1):\n",
    "    list2=list1[::-1]\n",
    "    return list2\n",
    "        "
   ]
  },
  {
   "cell_type": "code",
   "execution_count": 123,
   "id": "aggressive-aggregate",
   "metadata": {},
   "outputs": [
    {
     "data": {
      "text/plain": [
       "[1, 2, 3]"
      ]
     },
     "execution_count": 123,
     "metadata": {},
     "output_type": "execute_result"
    }
   ],
   "source": [
    "reverse_list([3,2,1])"
   ]
  },
  {
   "cell_type": "markdown",
   "id": "worst-statistics",
   "metadata": {},
   "source": [
    "# x.\tfind the product of all the numbers in the list. *****"
   ]
  },
  {
   "cell_type": "code",
   "execution_count": 239,
   "id": "unlimited-roommate",
   "metadata": {},
   "outputs": [
    {
     "ename": "SyntaxError",
     "evalue": "invalid syntax (<ipython-input-239-093d6e8913a4>, line 2)",
     "output_type": "error",
     "traceback": [
      "\u001b[1;36m  File \u001b[1;32m\"<ipython-input-239-093d6e8913a4>\"\u001b[1;36m, line \u001b[1;32m2\u001b[0m\n\u001b[1;33m    for list\u001b[0m\n\u001b[1;37m            ^\u001b[0m\n\u001b[1;31mSyntaxError\u001b[0m\u001b[1;31m:\u001b[0m invalid syntax\n"
     ]
    }
   ],
   "source": [
    "def product_elements(list1):\n",
    "    for elements in list:\n",
    "        list[0]*=list[i+1]"
   ]
  },
  {
   "cell_type": "markdown",
   "id": "diverse-leather",
   "metadata": {},
   "source": [
    "# xi.\tto print even numbers in a list\n",
    "# xii.\tto print odd numbers in a list"
   ]
  },
  {
   "cell_type": "code",
   "execution_count": 184,
   "id": "southeast-lightning",
   "metadata": {},
   "outputs": [],
   "source": [
    "def even_num(list1):\n",
    "    for element in list1:\n",
    "        if element % 2 == 0:\n",
    "            print(\"Even no. are: \", element)\n",
    "            \n",
    "        elif element % 2 == 1:\n",
    "            print(\"odd no. are:\",element)\n",
    "            \n",
    "    "
   ]
  },
  {
   "cell_type": "code",
   "execution_count": 185,
   "id": "disturbed-uruguay",
   "metadata": {},
   "outputs": [
    {
     "name": "stdout",
     "output_type": "stream",
     "text": [
      "Even no. are:  4\n",
      "odd no. are: 11\n",
      "Even no. are:  2\n",
      "odd no. are: 5\n",
      "Even no. are:  6\n",
      "Even no. are:  8\n"
     ]
    }
   ],
   "source": [
    "even_num([4,11,2,5,6,8])"
   ]
  },
  {
   "cell_type": "markdown",
   "id": "facial-nerve",
   "metadata": {},
   "source": [
    "# xiii.\tto print values present at even index in the list (0, 2, 4 etc)\n",
    "# xiv.\tto print values present at odd index in the list (1, 3, 5 etc)"
   ]
  },
  {
   "cell_type": "code",
   "execution_count": 192,
   "id": "integral-thread",
   "metadata": {},
   "outputs": [],
   "source": [
    "def even_odd(list1):\n",
    "    print(\"elements at odd position: \", list1[::2])\n",
    "    print(\"elements at even position: \", list1[1::2])"
   ]
  },
  {
   "cell_type": "code",
   "execution_count": 193,
   "id": "realistic-significance",
   "metadata": {},
   "outputs": [
    {
     "name": "stdout",
     "output_type": "stream",
     "text": [
      "elements at odd position:  [1, 3, 5]\n",
      "elements at even position:  [2, 4]\n"
     ]
    }
   ],
   "source": [
    "even_odd([1,2,3,4,5])"
   ]
  },
  {
   "cell_type": "markdown",
   "id": "traditional-kinase",
   "metadata": {},
   "source": [
    "# xv.\tto print positive numbers in a list\n",
    "# xvi.\tto print negative numbers in a list"
   ]
  },
  {
   "cell_type": "code",
   "execution_count": 200,
   "id": "absolute-chapter",
   "metadata": {},
   "outputs": [],
   "source": [
    "def positive_negative(list1):\n",
    "    p_list=[]\n",
    "    n_list=[]\n",
    "    for element in list1:\n",
    "        if element>0:\n",
    "            p_list.append(element)\n",
    "            \n",
    "        else:\n",
    "            n_list.append(element)\n",
    "        \n",
    "    print(\"positive nos.:\", p_list)\n",
    "    print(\"negative nos.:\", n_list)"
   ]
  },
  {
   "cell_type": "code",
   "execution_count": 201,
   "id": "demographic-school",
   "metadata": {},
   "outputs": [
    {
     "name": "stdout",
     "output_type": "stream",
     "text": [
      "positive nos.: [55, 1, 5, 6]\n",
      "negative nos.: [-2, -9, -77]\n"
     ]
    }
   ],
   "source": [
    "positive_negative([-2,55,1,-9,-77,5,6])"
   ]
  },
  {
   "cell_type": "markdown",
   "id": "optional-herald",
   "metadata": {},
   "source": [
    "# xvii.\tto print all positive numbers in a range\n",
    "# xviii.\tto print all negative numbers in a range \n"
   ]
  },
  {
   "cell_type": "code",
   "execution_count": 221,
   "id": "incorporate-modern",
   "metadata": {},
   "outputs": [],
   "source": [
    "def positive_negative_range(l_range,u_range):\n",
    "    p_list=[]\n",
    "    n_list=[]\n",
    "    for element in range(l_range,u_range):\n",
    "        if element>=0:\n",
    "            p_list.append(element)\n",
    "            \n",
    "        else:\n",
    "            n_list.append(element)\n",
    "        \n",
    "    print(\"positive nos.:\", p_list)\n",
    "    print(\"negative nos.:\", n_list)"
   ]
  },
  {
   "cell_type": "code",
   "execution_count": 222,
   "id": "sought-repair",
   "metadata": {},
   "outputs": [
    {
     "name": "stdout",
     "output_type": "stream",
     "text": [
      "positive nos.: [0, 1, 2]\n",
      "negative nos.: [-5, -4, -3, -2, -1]\n"
     ]
    }
   ],
   "source": [
    "positive_negative_range(-5,3)"
   ]
  },
  {
   "cell_type": "markdown",
   "id": "false-justice",
   "metadata": {},
   "source": [
    "# xix. to print all the words in uppercase in a given list. ****"
   ]
  },
  {
   "cell_type": "code",
   "execution_count": null,
   "id": "noted-genesis",
   "metadata": {},
   "outputs": [],
   "source": [
    "def upper_case(list1):\n",
    "    "
   ]
  },
  {
   "cell_type": "code",
   "execution_count": 230,
   "id": "academic-compromise",
   "metadata": {},
   "outputs": [],
   "source": [
    "list1=['nitin','rahuja']"
   ]
  },
  {
   "cell_type": "markdown",
   "id": "beautiful-graphic",
   "metadata": {},
   "source": [
    "# xx.\tto find which elements present in the first list are not present in the second list.  ***************\n"
   ]
  },
  {
   "cell_type": "code",
   "execution_count": 233,
   "id": "loose-convergence",
   "metadata": {},
   "outputs": [],
   "source": [
    "def present(lst1, lst2):\n",
    "    for i in lst1:\n",
    "        for j in lst2:\n",
    "            print(i is j)"
   ]
  },
  {
   "cell_type": "code",
   "execution_count": 235,
   "id": "closing-excitement",
   "metadata": {},
   "outputs": [
    {
     "ename": "SyntaxError",
     "evalue": "unexpected EOF while parsing (<ipython-input-235-95d2aa9ea21a>, line 1)",
     "output_type": "error",
     "traceback": [
      "\u001b[1;36m  File \u001b[1;32m\"<ipython-input-235-95d2aa9ea21a>\"\u001b[1;36m, line \u001b[1;32m1\u001b[0m\n\u001b[1;33m    present([1,2,8,9], [1,2,3,4,5]\u001b[0m\n\u001b[1;37m                                  ^\u001b[0m\n\u001b[1;31mSyntaxError\u001b[0m\u001b[1;31m:\u001b[0m unexpected EOF while parsing\n"
     ]
    }
   ],
   "source": [
    "present([1,2,8,9], [1,2,3,4,5]"
   ]
  },
  {
   "cell_type": "markdown",
   "id": "integrated-flash",
   "metadata": {},
   "source": [
    "# xxi.\tto print the number of times each element occurs in the list.*****\n"
   ]
  },
  {
   "cell_type": "code",
   "execution_count": 236,
   "id": "copyrighted-qatar",
   "metadata": {},
   "outputs": [],
   "source": [
    "list1=[11,55,66,11,55,11]"
   ]
  },
  {
   "cell_type": "code",
   "execution_count": 237,
   "id": "young-clinic",
   "metadata": {},
   "outputs": [
    {
     "data": {
      "text/plain": [
       "3"
      ]
     },
     "execution_count": 237,
     "metadata": {},
     "output_type": "execute_result"
    }
   ],
   "source": [
    "list1.count(11)"
   ]
  },
  {
   "cell_type": "code",
   "execution_count": null,
   "id": "arabic-scheduling",
   "metadata": {},
   "outputs": [],
   "source": [
    "def element_freq(list1):\n",
    "    count=0\n",
    "    for i in range(0, len(list1)-1):\n",
    "        for j in range(1,len(list1)-1):\n",
    "            if i==j:\n",
    "                count+=1\n",
    "     \n",
    "    print"
   ]
  }
 ],
 "metadata": {
  "kernelspec": {
   "display_name": "Python 3",
   "language": "python",
   "name": "python3"
  },
  "language_info": {
   "codemirror_mode": {
    "name": "ipython",
    "version": 3
   },
   "file_extension": ".py",
   "mimetype": "text/x-python",
   "name": "python",
   "nbconvert_exporter": "python",
   "pygments_lexer": "ipython3",
   "version": "3.9.2"
  }
 },
 "nbformat": 4,
 "nbformat_minor": 5
}
